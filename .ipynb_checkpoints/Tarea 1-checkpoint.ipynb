{
 "cells": [
  {
   "cell_type": "markdown",
   "metadata": {},
   "source": [
    "# Laboratorio 1"
   ]
  },
  {
   "cell_type": "markdown",
   "metadata": {},
   "source": [
    "Ramón Escobar \n",
    "\n",
    "Ciencia de Datos en Python I"
   ]
  },
  {
   "cell_type": "markdown",
   "metadata": {},
   "source": [
    "### Introducción"
   ]
  },
  {
   "cell_type": "markdown",
   "metadata": {},
   "source": [
    "### Los sistemas de control de versiones y GIT"
   ]
  },
  {
   "cell_type": "markdown",
   "metadata": {},
   "source": [
    "Los sistemas de control de versiones o __*Version Control Systems (VCS)*__ en inglés son unas de las tantas herramientas de desarollo que existe, y permiten controlar de forma clara modificaicones y cambios en un proyecto de código. Su principal función es almacenar todas la modificaciones hechas en el proyectos. Cada vez que se crea un nuevo paso en el proceso, estos sistemas guardan todo el código y con información relacionada al momento de almacenarlo. (Missing Semester, 2020) Considerando un proyecto de desarrollo de un videojuego, en un VCS tendriamos almacenadas todas las versiones desde la primera hasta la última."
   ]
  },
  {
   "cell_type": "markdown",
   "metadata": {},
   "source": [
    "Missing Semester (2020) nos menciona que uno de los beneficios más importantes de los VCS es que permiten el trabajo colaborativo. Así es posible identificar no solo los cambios sino que tambien los detalles importantes de cada modificación importante, como quién lo hizo, en qué momento y cómo lo hizo. Por ejemplo, en un proyecto de creación de un videojuego, un VCS permitirá que una persona de dedica al desarrollo de un nuevo nivel mientras otro puede crear un sistema de pagos integrado."
   ]
  },
  {
   "cell_type": "markdown",
   "metadata": {},
   "source": [
    "Dado lo anterior, Atlassian (S.F.), empresa propietaria de Bitbucket, considera que hay tres beneficios derivables del uso de los VCS:\n",
    "* Existe un historial robusto de todos los cambios\n",
    "* Es posible separar el proyecto en ramas que permiten el trabajo en paralelo\n",
    "* Hay un seguimiento constante de cambios, problemas y errores durante el desarrollo del proyecto"
   ]
  },
  {
   "cell_type": "markdown",
   "metadata": {},
   "source": [
    "Dentro de los VCS, uno de los más conocidos es Git, que normalmente es percibido coomo una especie de Google Drive para desarrolladores manipulable desde una línea de comandos pero su estructura es mucho más profunda y compuesta por tres compoenetes muy importantes:\n",
    "\n",
    "1. **Un árbol** (*Tree*) es el directorio (Entiendase 'carpeta') principal donde se pueden almacenar otros directorios y archivos conocidos como Blobs\n",
    "2. **Los *Blobs***, que son archivos de código\n",
    "3. **Los commits**, que son los trees y blobs almacenados en un punto concreto del historial de cambios"
   ]
  },
  {
   "cell_type": "markdown",
   "metadata": {},
   "source": [
    "Además Git cuenta con un modelo conocido como Gráfico acíclico direccionado (*Directed acyclic graph* o DAG en inglés), en términos simples, es una forma gráfica de presentar todos los cambios almacenados de un proyecto, incluyendo las divisiones en paralelo y la unión de trabajo distribuido. Estos commits no pueden modificarse, pero si pueden corregirse a futuro dentro de nuevos commits."
   ]
  },
  {
   "cell_type": "markdown",
   "metadata": {},
   "source": [
    "![Tres commits en línea](CommitLineal.png)\n",
    "###### Imagen 1. Un DAG con tres commits en línea. Por ejemplo, el desarrollo de un videojuego y cada commit corresponde a una actualización"
   ]
  },
  {
   "cell_type": "markdown",
   "metadata": {},
   "source": [
    "![Commits con ramas](CommitBranched.png)\n",
    "\n",
    "###### Imagen 2. Un DAG con una rama de trabajo en paralelo. Por ejemplo, en el desarrollo de un video juego una primera ruta puede ser agregar niveles, mientras la paralela puede ser agregar nuevas características como un sistema de pagos, validación en 2 pasos, etc En el último paso se unen todas las caracteristicas en un solo commit."
   ]
  },
  {
   "cell_type": "markdown",
   "metadata": {},
   "source": [
    "Dentro de este sistema, Git maneja sus componentes (*Trees, Blobs y commits*) como objetos y cada uno cuenta con un identificador único o hash que permite ubicarlos dentro del historial de cambios o incluso dentro de un cambio en particular. El problema radica que a diferencia del sistema, los usuarios comunes no pueden memorizar hashes, por ello, Git facilita el trabajo con referencias, es decir, nombres sencillos para ubicar a los usuarios dentro de la historia. Por ejemplo, Git para ubicarnos en el commit que estamos utilizando utiliza la referencia head, a partir de allí es posible crear una nueva línea de trabajo (o *branch*) donde se pueden agregar nuevas características o reparar errores."
   ]
  },
  {
   "cell_type": "markdown",
   "metadata": {},
   "source": [
    "Una vez definidos los componentes principales de Git, es importante hablar de repositorios. Los repositorios son el conjunto de todos los objetos y referencias de Git (Missing Semester, 2020), es dentro de ellos donde podemos hacer modificaciones y cambios, generar *branches*, etc. Así es posible que una empresa de desarrollo tenga un repositorio con un proyecto para el diseño de un videojuego, y en otro, el diseño de un sistema de reconocimiento de mascarillas para un hospital."
   ]
  },
  {
   "cell_type": "markdown",
   "metadata": {},
   "source": [
    "Es relevante resaltar la importancia de que cada commit que hagamos reflejará el estado de un proyecto durante el proceso, en este punto se vuelve importante que cada commit sea de la mejor calidad posible; para este fin , Git tiene una *stagging area*.  En esta etapa intermedia entre dos commits, todos los cambios se agregan al reposititorio pero no al commit, de está forma es posible asegurar que el código que se almacene al final sea claro. Para ilustrar este caso, en un proyecto de desarrollo de un videojuegos se puede hacer mejoras en un día, y al cierre de jornada se hace el commit."
   ]
  },
  {
   "cell_type": "markdown",
   "metadata": {},
   "source": [
    "#### ¿Cómo utilizar Git?\n",
    "##### Git I"
   ]
  },
  {
   "cell_type": "markdown",
   "metadata": {},
   "source": [
    "Para ejemplificar el uso de Git, se utilizará este notebook"
   ]
  },
  {
   "cell_type": "markdown",
   "metadata": {},
   "source": [
    "Para iniciar un proyecto en Git (o en cualquiera de sus provedores, como Github o Gitlab) es importante que localmente inicializar el repositorio, con el comando "
   ]
  },
  {
   "cell_type": "code",
   "execution_count": 2,
   "metadata": {},
   "outputs": [
    {
     "name": "stdout",
     "output_type": "stream",
     "text": [
      "Initialized empty Git repository in C:/Users/ramon/Google Drive/MSc Data Science/Primero/Ciclo I/Ciencia de Datos en Python/Tarea I/.git/\n"
     ]
    }
   ],
   "source": [
    "!Git init"
   ]
  },
  {
   "cell_type": "markdown",
   "metadata": {},
   "source": [
    "Una vez iniciado el proceso, es importante verificar el estado del repositorio:"
   ]
  },
  {
   "cell_type": "code",
   "execution_count": 3,
   "metadata": {},
   "outputs": [
    {
     "name": "stdout",
     "output_type": "stream",
     "text": [
      "On branch master\n",
      "\n",
      "No commits yet\n",
      "\n",
      "Untracked files:\n",
      "  (use \"git add <file>...\" to include in what will be committed)\n",
      "\t.gitignore.txt\n",
      "\tCommitBranched.png\n",
      "\tCommitLineal.png\n",
      "\tLaboratorio_1.pdf\n",
      "\tTarea 1.ipynb\n",
      "\n",
      "nothing added to commit but untracked files present (use \"git add\" to track)\n"
     ]
    }
   ],
   "source": [
    "!git status"
   ]
  },
  {
   "cell_type": "markdown",
   "metadata": {},
   "source": [
    "El comando anterior indica que existen algunos archivos que no han sido agregados al repositorio (El enunciado del laboratorio, el notebook y las imagenes utilizadas).\n",
    "\n",
    "Hay una carpeta que no es necesaria en el repositorio, en casos así es posible crear un documento __.gitignore__ que se agrega al repositorio y que declara que elementos o directorios no deben ser tomados en cuenta por Git (Como Checkpoints de Jupyter)\n",
    "\n",
    "Para agregar todos los elementos, incluyendo el .gitignore, solo es necesario el comando:"
   ]
  },
  {
   "cell_type": "code",
   "execution_count": 5,
   "metadata": {},
   "outputs": [],
   "source": [
    "!Git add ."
   ]
  },
  {
   "cell_type": "code",
   "execution_count": 6,
   "metadata": {},
   "outputs": [
    {
     "name": "stdout",
     "output_type": "stream",
     "text": [
      "On branch master\n",
      "\n",
      "No commits yet\n",
      "\n",
      "Changes to be committed:\n",
      "  (use \"git rm --cached <file>...\" to unstage)\n",
      "\tnew file:   .gitignore.txt\n",
      "\tnew file:   CommitBranched.png\n",
      "\tnew file:   CommitLineal.png\n",
      "\tnew file:   Laboratorio_1.pdf\n",
      "\tnew file:   Tarea 1.ipynb\n",
      "\n"
     ]
    }
   ],
   "source": [
    "!Git status"
   ]
  },
  {
   "cell_type": "markdown",
   "metadata": {},
   "source": [
    "<u>Con el comando Git Add . se agregaron los elementos a las *stagging area* </u>\n",
    "\n",
    "Ahora, es posible hacer el primer commit del repositorio"
   ]
  },
  {
   "cell_type": "code",
   "execution_count": 7,
   "metadata": {},
   "outputs": [
    {
     "name": "stdout",
     "output_type": "stream",
     "text": [
      "[master (root-commit) 666eaf9] Primer commit\n",
      " 5 files changed, 946 insertions(+)\n",
      " create mode 100644 .gitignore.txt\n",
      " create mode 100644 CommitBranched.png\n",
      " create mode 100644 CommitLineal.png\n",
      " create mode 100644 Laboratorio_1.pdf\n",
      " create mode 100644 Tarea 1.ipynb\n"
     ]
    }
   ],
   "source": [
    "!Git commit -m \"Primer commit\""
   ]
  },
  {
   "cell_type": "markdown",
   "metadata": {},
   "source": [
    "De este comando es resaltable, el hash **0ca0ab3** como identificador de nuestro primer commit\n",
    "\n",
    "Una vez, el repositorio tiene commits es posible identificar un historial a través del log:"
   ]
  },
  {
   "cell_type": "code",
   "execution_count": 8,
   "metadata": {},
   "outputs": [
    {
     "name": "stdout",
     "output_type": "stream",
     "text": [
      "commit 666eaf97db57d44166032a10d974c3491f3f1b73\n",
      "Author: RamÃ³n Alberto Escobar Madrid <ramon.escobarm97@gmail.com>\n",
      "Date:   Sun Feb 14 22:30:50 2021 -0600\n",
      "\n",
      "    Primer commit\n"
     ]
    }
   ],
   "source": [
    "!Git log"
   ]
  },
  {
   "cell_type": "markdown",
   "metadata": {},
   "source": [
    "En el log es posible obtener los detalles de todos los commits que se hayan realizado en el repositorio\n",
    "\n",
    "Y si necesitamos observar el DAG de Git, solo necesitamos el siguiente comando"
   ]
  },
  {
   "cell_type": "code",
   "execution_count": 9,
   "metadata": {},
   "outputs": [
    {
     "name": "stdout",
     "output_type": "stream",
     "text": [
      "* commit 666eaf97db57d44166032a10d974c3491f3f1b73 (HEAD -> master)\n",
      "  Author: RamÃ³n Alberto Escobar Madrid <ramon.escobarm97@gmail.com>\n",
      "  Date:   Sun Feb 14 22:30:50 2021 -0600\n",
      "  \n",
      "      Primer commit\n"
     ]
    }
   ],
   "source": [
    "!git log --all --graph --decorate"
   ]
  },
  {
   "cell_type": "markdown",
   "metadata": {},
   "source": [
    "Considerando que hay un único commit no es notable la estructura DAG, pero a medida avanza el proyecto será más reconocible su forma "
   ]
  },
  {
   "cell_type": "markdown",
   "metadata": {},
   "source": [
    "##### Git II - Branch y Merge\n",
    "\n",
    "Para este ejemplo se creara un archivo de texto con los detalles personales del autor, para ejemplicar el funcioanamiento de las ramas\n",
    "\n",
    "Para crear un nuevo *Branch* es necesario el comando:"
   ]
  },
  {
   "cell_type": "code",
   "execution_count": 10,
   "metadata": {},
   "outputs": [],
   "source": [
    "!git branch datos"
   ]
  },
  {
   "cell_type": "markdown",
   "metadata": {},
   "source": [
    "Una vez generado un nuevo branch llamado datos, es posible 'moverse' para trabajar en él:"
   ]
  },
  {
   "cell_type": "code",
   "execution_count": 11,
   "metadata": {},
   "outputs": [
    {
     "name": "stderr",
     "output_type": "stream",
     "text": [
      "Switched to branch 'datos'\n"
     ]
    }
   ],
   "source": [
    "!git checkout datos"
   ]
  },
  {
   "cell_type": "code",
   "execution_count": 12,
   "metadata": {},
   "outputs": [
    {
     "name": "stdout",
     "output_type": "stream",
     "text": [
      "On branch datos\n",
      "nothing to commit, working tree clean\n"
     ]
    }
   ],
   "source": [
    "!git status"
   ]
  },
  {
   "cell_type": "markdown",
   "metadata": {},
   "source": [
    "El nuevo archivo no está en la *stagging area* y luego hacer un commit con el branch actualizado"
   ]
  },
  {
   "cell_type": "code",
   "execution_count": 13,
   "metadata": {},
   "outputs": [],
   "source": [
    "!git add ."
   ]
  },
  {
   "cell_type": "code",
   "execution_count": 26,
   "metadata": {},
   "outputs": [
    {
     "name": "stdout",
     "output_type": "stream",
     "text": [
      "[datos efc7b91] Nuevo commit, en nuevo branch\n",
      " 3 files changed, 213 insertions(+), 4 deletions(-)\n",
      " create mode 100644 .ipynb_checkpoints/datos-checkpoint.txt\n",
      " create mode 100644 datos.txt\n"
     ]
    }
   ],
   "source": [
    "!git commit -m \"Nuevo commit, en nuevo branch\""
   ]
  },
  {
   "cell_type": "code",
   "execution_count": 84,
   "metadata": {},
   "outputs": [
    {
     "name": "stdout",
     "output_type": "stream",
     "text": [
      "* commit 84aada3c77c9a948922138233bbec527ff625322 (HEAD -> main)\n",
      "| Author: RamÃ³n Escobar <ramon.escobarm97@gmail.com>\n",
      "| Date:   Sun Feb 14 21:24:47 2021 -0600\n",
      "| \n",
      "|     Otro branch con nuevos datos\n",
      "| \n",
      "* commit efc7b91ec445f60951411d4222cd5efa018af9e3 (datos)\n",
      "| Author: RamÃ³n Escobar <ramon.escobarm97@gmail.com>\n",
      "| Date:   Sun Feb 14 21:13:50 2021 -0600\n",
      "| \n",
      "|     Nuevo commit, en nuevo branch\n",
      "| \n",
      "* commit 0ca0ab3e4d3213991ab0e506e2f7f1b631f3dbff (master)\n",
      "  Author: RamÃ³n Escobar <ramon.escobarm97@gmail.com>\n",
      "  Date:   Sun Feb 14 20:50:40 2021 -0600\n",
      "  \n",
      "      Primer commit\n"
     ]
    }
   ],
   "source": [
    "!git log --all --graph --decorate"
   ]
  },
  {
   "cell_type": "markdown",
   "metadata": {},
   "source": [
    "Para conocer las diferencias a detalle entre ambos commits, se utiliza el comando:"
   ]
  },
  {
   "cell_type": "code",
   "execution_count": 83,
   "metadata": {
    "collapsed": true,
    "jupyter": {
     "outputs_hidden": true
    }
   },
   "outputs": [
    {
     "name": "stdout",
     "output_type": "stream",
     "text": [
      "diff --git a/.ipynb_checkpoints/datos-checkpoint.txt b/.ipynb_checkpoints/datos-checkpoint.txt\n",
      "new file mode 100644\n",
      "index 0000000..e69de29\n",
      "diff --git a/Tarea 1.ipynb b/Tarea 1.ipynb\n",
      "index 3aab0ef..d7f7f24 100644\n",
      "--- a/Tarea 1.ipynb\t\n",
      "+++ b/Tarea 1.ipynb\t\n",
      "@@ -114,7 +114,8 @@\n",
      "    \"cell_type\": \"markdown\",\n",
      "    \"metadata\": {},\n",
      "    \"source\": [\n",
      "-    \"#### Â¿CÃ³mo utilizar Git?\"\n",
      "+    \"#### Â¿CÃ³mo utilizar Git?\\n\",\n",
      "+    \"##### Git BÃ¡sico I\"\n",
      "    ]\n",
      "   },\n",
      "   {\n",
      "@@ -192,16 +193,221 @@\n",
      "     \"\\n\",\n",
      "     \"Hay una carpeta que no es necesaria en el repositorio, en casos asÃ­ es posible crear un documento __.gitignore__ que se agrega al repositorio y que declara que elementos o directorios no deben ser tomados en cuenta por Git\\n\",\n",
      "     \"\\n\",\n",
      "-    \"Para agregar todos los elementos, incluyendo el .gitignor\"\n",
      "+    \"Para agregar todos los elementos, incluyendo el .gitignore, solo es necesario el comando:\"\n",
      "    ]\n",
      "   },\n",
      "   {\n",
      "    \"cell_type\": \"code\",\n",
      "-   \"execution_count\": null,\n",
      "+   \"execution_count\": 7,\n",
      "    \"metadata\": {},\n",
      "    \"outputs\": [],\n",
      "    \"source\": [\n",
      "-    \"Pa\"\n",
      "+    \"!Git add .\"\n",
      "+   ]\n",
      "+  },\n",
      "+  {\n",
      "+   \"cell_type\": \"code\",\n",
      "+   \"execution_count\": 8,\n",
      "+   \"metadata\": {},\n",
      "+   \"outputs\": [\n",
      "+    {\n",
      "+     \"name\": \"stdout\",\n",
      "+     \"output_type\": \"stream\",\n",
      "+     \"text\": [\n",
      "+      \"On branch master\\n\",\n",
      "+      \"\\n\",\n",
      "+      \"No commits yet\\n\",\n",
      "+      \"\\n\",\n",
      "+      \"Changes to be committed:\\n\",\n",
      "+      \"  (use \\\"git rm --cached <file>...\\\" to unstage)\\n\",\n",
      "+      \"\\tnew file:   .gitignore.txt\\n\",\n",
      "+      \"\\tnew file:   .ipynb_checkpoints/.gitignore-checkpoint.txt\\n\",\n",
      "+      \"\\tnew file:   .ipynb_checkpoints/Laboratorio_1-checkpoint.pdf\\n\",\n",
      "+      \"\\tnew file:   .ipynb_checkpoints/Tarea 1-checkpoint.ipynb\\n\",\n",
      "+      \"\\tnew file:   CommitBranched.png\\n\",\n",
      "+      \"\\tnew file:   CommitLineal.png\\n\",\n",
      "+      \"\\tnew file:   Laboratorio_1.pdf\\n\",\n",
      "+      \"\\tnew file:   Tarea 1.ipynb\\n\",\n",
      "+      \"\\n\"\n",
      "+     ]\n",
      "+    }\n",
      "+   ],\n",
      "+   \"source\": [\n",
      "+    \"!Git status\"\n",
      "+   ]\n",
      "+  },\n",
      "+  {\n",
      "+   \"cell_type\": \"markdown\",\n",
      "+   \"metadata\": {},\n",
      "+   \"source\": [\n",
      "+    \"<u>Con el comando Git Add . se agregaron los elementos a las *stagging area* </u>\\n\",\n",
      "+    \"\\n\",\n",
      "+    \"Ahora, es posible hacer el primer commit del repositorio\"\n",
      "+   ]\n",
      "+  },\n",
      "+  {\n",
      "+   \"cell_type\": \"code\",\n",
      "+   \"execution_count\": 9,\n",
      "+   \"metadata\": {},\n",
      "+   \"outputs\": [\n",
      "+    {\n",
      "+     \"name\": \"stdout\",\n",
      "+     \"output_type\": \"stream\",\n",
      "+     \"text\": [\n",
      "+      \"[master (root-commit) 0ca0ab3] Primer commit\\n\",\n",
      "+      \" 8 files changed, 481 insertions(+)\\n\",\n",
      "+      \" create mode 100644 .gitignore.txt\\n\",\n",
      "+      \" create mode 100644 .ipynb_checkpoints/.gitignore-checkpoint.txt\\n\",\n",
      "+      \" create mode 100644 .ipynb_checkpoints/Laboratorio_1-checkpoint.pdf\\n\",\n",
      "+      \" create mode 100644 .ipynb_checkpoints/Tarea 1-checkpoint.ipynb\\n\",\n",
      "+      \" create mode 100644 CommitBranched.png\\n\",\n",
      "+      \" create mode 100644 CommitLineal.png\\n\",\n",
      "+      \" create mode 100644 Laboratorio_1.pdf\\n\",\n",
      "+      \" create mode 100644 Tarea 1.ipynb\\n\"\n",
      "+     ]\n",
      "+    }\n",
      "+   ],\n",
      "+   \"source\": [\n",
      "+    \"!Git commit -m \\\"Primer commit\\\"\"\n",
      "+   ]\n",
      "+  },\n",
      "+  {\n",
      "+   \"cell_type\": \"markdown\",\n",
      "+   \"metadata\": {},\n",
      "+   \"source\": [\n",
      "+    \"De este comando es resaltable, el hash **0ca0ab3** como identificador de nuestro primer commit\\n\",\n",
      "+    \"\\n\",\n",
      "+    \"Una vez, el repositorio tiene commits es posible identificar un historial a travÃ©s del log:\"\n",
      "+   ]\n",
      "+  },\n",
      "+  {\n",
      "+   \"cell_type\": \"code\",\n",
      "+   \"execution_count\": 11,\n",
      "+   \"metadata\": {},\n",
      "+   \"outputs\": [\n",
      "+    {\n",
      "+     \"name\": \"stdout\",\n",
      "+     \"output_type\": \"stream\",\n",
      "+     \"text\": [\n",
      "+      \"commit 0ca0ab3e4d3213991ab0e506e2f7f1b631f3dbff\\n\",\n",
      "+      \"Author: RamÃƒÂ³n Escobar <ramon.escobarm97@gmail.com>\\n\",\n",
      "+      \"Date:   Sun Feb 14 20:50:40 2021 -0600\\n\",\n",
      "+      \"\\n\",\n",
      "+      \"    Primer commit\\n\"\n",
      "+     ]\n",
      "+    }\n",
      "+   ],\n",
      "+   \"source\": [\n",
      "+    \"!Git log\"\n",
      "+   ]\n",
      "+  },\n",
      "+  {\n",
      "+   \"cell_type\": \"markdown\",\n",
      "+   \"metadata\": {},\n",
      "+   \"source\": [\n",
      "+    \"En el log es posible obtener los detalles de todos los commits que se hayan realizado en el repositorio\\n\",\n",
      "+    \"\\n\",\n",
      "+    \"Y si necesitamos observar el DAG de Git, solo necesitamos el siguiente comando\"\n",
      "+   ]\n",
      "+  },\n",
      "+  {\n",
      "+   \"cell_type\": \"code\",\n",
      "+   \"execution_count\": 18,\n",
      "+   \"metadata\": {},\n",
      "+   \"outputs\": [\n",
      "+    {\n",
      "+     \"name\": \"stdout\",\n",
      "+     \"output_type\": \"stream\",\n",
      "+     \"text\": [\n",
      "+      \"* commit 0ca0ab3e4d3213991ab0e506e2f7f1b631f3dbff (HEAD -> master)\\n\",\n",
      "+      \"  Author: RamÃƒÂ³n Escobar <ramon.escobarm97@gmail.com>\\n\",\n",
      "+      \"  Date:   Sun Feb 14 20:50:40 2021 -0600\\n\",\n",
      "+      \"  \\n\",\n",
      "+      \"      Primer commit\\n\"\n",
      "+     ]\n",
      "+    }\n",
      "+   ],\n",
      "+   \"source\": [\n",
      "+    \"!git log --all --graph --decorate\"\n",
      "+   ]\n",
      "+  },\n",
      "+  {\n",
      "+   \"cell_type\": \"markdown\",\n",
      "+   \"metadata\": {},\n",
      "+   \"source\": [\n",
      "+    \"Considerando que hay un Ãºnico commit no es notable la estructura DAG, pero a medida avanza el proyecto serÃ¡ mÃ¡s reconocible su forma \"\n",
      "+   ]\n",
      "+  },\n",
      "+  {\n",
      "+   \"cell_type\": \"markdown\",\n",
      "+   \"metadata\": {},\n",
      "+   \"source\": [\n",
      "+    \"##### Git BÃ¡sico II - Branch y Merge\\n\",\n",
      "+    \"\\n\",\n",
      "+    \"Para este ejemplo se creara un archivo de texto con los detalles personales del autor, para ejemplicar el funcioanamiento de las ramas\\n\",\n",
      "+    \"\\n\",\n",
      "+    \"Para crear un nuevo *Branch* es necesario el comando:\"\n",
      "+   ]\n",
      "+  },\n",
      "+  {\n",
      "+   \"cell_type\": \"code\",\n",
      "+   \"execution_count\": 20,\n",
      "+   \"metadata\": {},\n",
      "+   \"outputs\": [],\n",
      "+   \"source\": [\n",
      "+    \"!git branch datos\"\n",
      "+   ]\n",
      "+  },\n",
      "+  {\n",
      "+   \"cell_type\": \"markdown\",\n",
      "+   \"metadata\": {},\n",
      "+   \"source\": [\n",
      "+    \"Una vez generamos un nuevo branch llamado datos, podemos movernos y trabajar en el:\"\n",
      "+   ]\n",
      "+  },\n",
      "+  {\n",
      "+   \"cell_type\": \"code\",\n",
      "+   \"execution_count\": 21,\n",
      "+   \"metadata\": {},\n",
      "+   \"outputs\": [\n",
      "+    {\n",
      "+     \"name\": \"stdout\",\n",
      "+     \"output_type\": \"stream\",\n",
      "+     \"text\": [\n",
      "+      \"M\\tTarea 1.ipynb\\n\"\n",
      "+     ]\n",
      "+    },\n",
      "+    {\n",
      "+     \"name\": \"stderr\",\n",
      "+     \"output_type\": \"stream\",\n",
      "+     \"text\": [\n",
      "+      \"Switched to branch 'datos'\\n\"\n",
      "+     ]\n",
      "+    }\n",
      "+   ],\n",
      "+   \"source\": [\n",
      "+    \"!git checkout datos\"\n",
      "+   ]\n",
      "+  },\n",
      "+  {\n",
      "+   \"cell_type\": \"code\",\n",
      "+   \"execution_count\": 22,\n",
      "+   \"metadata\": {},\n",
      "+   \"outputs\": [\n",
      "+    {\n",
      "+     \"name\": \"stdout\",\n",
      "+     \"output_type\": \"stream\",\n",
      "+     \"text\": [\n",
      "+      \"* commit 0ca0ab3e4d3213991ab0e506e2f7f1b631f3dbff (HEAD -> datos, master)\\n\",\n",
      "+      \"  Author: RamÃƒÂ³n Escobar <ramon.escobarm97@gmail.com>\\n\",\n",
      "+      \"  Date:   Sun Feb 14 20:50:40 2021 -0600\\n\",\n",
      "+      \"  \\n\",\n",
      "+      \"      Primer commit\\n\"\n",
      "+     ]\n",
      "+    }\n",
      "+   ],\n",
      "+   \"source\": [\n",
      "+    \"!g\"\n",
      "    ]\n",
      "   },\n",
      "   {\n",
      "diff --git a/datos.txt b/datos.txt\n",
      "new file mode 100644\n",
      "index 0000000..61ce2e3\n",
      "--- /dev/null\n",
      "+++ b/datos.txt\n",
      "@@ -0,0 +1,3 @@\n",
      "+Nombre: RamÃ³n\n",
      "+Edad: 23 aÃ±os\n",
      "+Sexo: M\n",
      "\\ No newline at end of file\n"
     ]
    }
   ],
   "source": [
    "!git diff master datos"
   ]
  },
  {
   "cell_type": "markdown",
   "metadata": {},
   "source": [
    "Para crear un nuevo branch y empezar a trabajar en él:"
   ]
  },
  {
   "cell_type": "markdown",
   "metadata": {},
   "source": [
    "Para combinar todos los branches, es posible utilizar el comando git merge"
   ]
  },
  {
   "cell_type": "code",
   "execution_count": 39,
   "metadata": {},
   "outputs": [
    {
     "name": "stdout",
     "output_type": "stream",
     "text": [
      "Already up to date.\n"
     ]
    }
   ],
   "source": [
    "!git merge master datos "
   ]
  },
  {
   "cell_type": "code",
   "execution_count": 40,
   "metadata": {
    "collapsed": true,
    "jupyter": {
     "outputs_hidden": true
    }
   },
   "outputs": [
    {
     "name": "stdout",
     "output_type": "stream",
     "text": [
      "* commit 84aada3c77c9a948922138233bbec527ff625322 (HEAD -> nuevosdatos)\n",
      "| Author: RamÃ³n Escobar <ramon.escobarm97@gmail.com>\n",
      "| Date:   Sun Feb 14 21:24:47 2021 -0600\n",
      "| \n",
      "|     Otro branch con nuevos datos\n",
      "| \n",
      "* commit efc7b91ec445f60951411d4222cd5efa018af9e3 (datos)\n",
      "| Author: RamÃ³n Escobar <ramon.escobarm97@gmail.com>\n",
      "| Date:   Sun Feb 14 21:13:50 2021 -0600\n",
      "| \n",
      "|     Nuevo commit, en nuevo branch\n",
      "| \n",
      "* commit 0ca0ab3e4d3213991ab0e506e2f7f1b631f3dbff (master)\n",
      "  Author: RamÃ³n Escobar <ramon.escobarm97@gmail.com>\n",
      "  Date:   Sun Feb 14 20:50:40 2021 -0600\n",
      "  \n",
      "      Primer commit\n"
     ]
    }
   ],
   "source": [
    "!git log --all --graph --decorate"
   ]
  },
  {
   "cell_type": "markdown",
   "metadata": {},
   "source": [
    "##### Git III - Push\n",
    "\n",
    "Para facilitar el trabajo en paralelo, Git permite el uso de repositorios y commits remotos. Para agregar una conexión a un repositorio remoto, se utiliza:"
   ]
  },
  {
   "cell_type": "code",
   "execution_count": 78,
   "metadata": {},
   "outputs": [
    {
     "name": "stderr",
     "output_type": "stream",
     "text": [
      "fatal: remote origin already exists.\n"
     ]
    }
   ],
   "source": [
    "!git remote add origin https://github.com/ramonescobar/TareaI-PythonParaDSI.git"
   ]
  },
  {
   "cell_type": "markdown",
   "metadata": {},
   "source": [
    "Para cambiar al branch principal del repositorio remoto:"
   ]
  },
  {
   "cell_type": "code",
   "execution_count": 74,
   "metadata": {},
   "outputs": [],
   "source": [
    "!git branch -M main"
   ]
  },
  {
   "cell_type": "markdown",
   "metadata": {},
   "source": [
    "Y para enviar la información del repositorio local al repositorio remoto, se utiliza"
   ]
  },
  {
   "cell_type": "code",
   "execution_count": 82,
   "metadata": {},
   "outputs": [
    {
     "name": "stderr",
     "output_type": "stream",
     "text": [
      "Logon failed, use ctrl+c to cancel basic credential prompt.\n",
      "bash: /dev/tty: No such device or address\n",
      "error: failed to execute prompt script (exit code 1)\n",
      "fatal: could not read Username for 'https://github.com': No such file or directory\n"
     ]
    }
   ],
   "source": [
    "!git push -u origin main"
   ]
  },
  {
   "cell_type": "markdown",
   "metadata": {},
   "source": [
    "### Conclusión"
   ]
  },
  {
   "cell_type": "markdown",
   "metadata": {},
   "source": [
    "## Referencias\n",
    "* Atlassian (S.F) What is version control?. Git Tutorial. [Link](https://www.atlassian.com/git/tutorials/what-is-version-control)\n",
    "* Missing Semester (2020). Version Control (Git). [Link](https://missing.csail.mit.edu/2020/version-control/)"
   ]
  }
 ],
 "metadata": {
  "kernelspec": {
   "display_name": "Python 3",
   "language": "python",
   "name": "python3"
  },
  "language_info": {
   "codemirror_mode": {
    "name": "ipython",
    "version": 3
   },
   "file_extension": ".py",
   "mimetype": "text/x-python",
   "name": "python",
   "nbconvert_exporter": "python",
   "pygments_lexer": "ipython3",
   "version": "3.8.5"
  }
 },
 "nbformat": 4,
 "nbformat_minor": 4
}
